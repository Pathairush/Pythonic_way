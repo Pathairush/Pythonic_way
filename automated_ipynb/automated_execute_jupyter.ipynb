{
 "cells": [
  {
   "cell_type": "code",
   "execution_count": null,
   "metadata": {},
   "outputs": [],
   "source": [
    "%pwd"
   ]
  },
  {
   "cell_type": "markdown",
   "metadata": {},
   "source": [
    "# to execute notebook"
   ]
  },
  {
   "cell_type": "markdown",
   "metadata": {},
   "source": [
    "have to install nbparameterise first"
   ]
  },
  {
   "cell_type": "code",
   "execution_count": 1,
   "metadata": {},
   "outputs": [],
   "source": [
    "import os\n",
    "import nbformat\n",
    "from nbconvert.preprocessors import ExecutePreprocessor\n",
    "from nbconvert.preprocessors import CellExecutionError\n",
    "from nbparameterise import (\n",
    "    extract_parameters, replace_definitions, parameter_values\n",
    ")"
   ]
  },
  {
   "cell_type": "code",
   "execution_count": 6,
   "metadata": {},
   "outputs": [],
   "source": [
    "def execute_jupyter_notebook(run_path, notebook_filename, notebook_filename_out,\n",
    "                             pass_args = False, **kwargs):\n",
    "    \n",
    "    with open(notebook_filename) as f:\n",
    "        nb = nbformat.read(f, as_version=4)\n",
    "    \n",
    "    if pass_args:\n",
    "        # Get a list of Parameter objects\n",
    "        orig_parameters = extract_parameters(nb)\n",
    "\n",
    "        # Update one or more parameters\n",
    "        params = parameter_values(orig_parameters, **kwargs)\n",
    "\n",
    "        # Make a notebook object with these definitions, and execute it.\n",
    "        nb = replace_definitions(nb, params) \n",
    "    \n",
    "    # execute the notebook\n",
    "    ep_python = ExecutePreprocessor(timeout=None, kernel_name='python3')\n",
    "\n",
    "    try:\n",
    "        out = ep_python.preprocess(nb, {'metadata': {'path': run_path}})\n",
    "    \n",
    "    except CellExecutionError:\n",
    "        out = None\n",
    "        msg = 'Error executing the notebook \"%s\".\\n\\n' % notebook_filename\n",
    "        msg += 'See notebook \"%s\" for the traceback.' % notebook_filename_out\n",
    "        print(msg)\n",
    "        raise\n",
    "    \n",
    "    finally:\n",
    "        with open(notebook_filename_out, mode='w', encoding='utf-8') as f:\n",
    "            nbformat.write(nb, f)"
   ]
  },
  {
   "cell_type": "code",
   "execution_count": 7,
   "metadata": {},
   "outputs": [],
   "source": [
    "run_path = '../test_execute_ipynb/'\n",
    "notebook_filename = \"test_exc.ipynb\"\n",
    "notebook_filename_out_path = \"../test_execute_ipynb/log_result/test_write_passargs_result.ipynb\""
   ]
  },
  {
   "cell_type": "code",
   "execution_count": 8,
   "metadata": {},
   "outputs": [],
   "source": [
    "execute_jupyter_notebook(run_path, notebook_filename, notebook_filename_out_path, pass_args = True, score = 'hello world')"
   ]
  }
 ],
 "metadata": {
  "kernelspec": {
   "display_name": "Python 3",
   "language": "python",
   "name": "python3"
  },
  "language_info": {
   "codemirror_mode": {
    "name": "ipython",
    "version": 3
   },
   "file_extension": ".py",
   "mimetype": "text/x-python",
   "name": "python",
   "nbconvert_exporter": "python",
   "pygments_lexer": "ipython3",
   "version": "3.6.5"
  }
 },
 "nbformat": 4,
 "nbformat_minor": 2
}
